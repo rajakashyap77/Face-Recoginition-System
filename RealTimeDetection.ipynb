{
 "cells": [
  {
   "cell_type": "code",
   "execution_count": 1,
   "id": "06479a33",
   "metadata": {},
   "outputs": [],
   "source": [
    "import cv2\n",
    "import tensorflow as tf\n",
    "import numpy as np\n",
    "from tensorflow.keras.preprocessing import image\n",
    "import os"
   ]
  },
  {
   "cell_type": "code",
   "execution_count": 2,
   "id": "2cbe641d",
   "metadata": {},
   "outputs": [],
   "source": [
    "cnn = tf.keras.models.load_model(\"facefeatures_model.h5\")\n",
    "cap = cv2.VideoCapture(0)"
   ]
  },
  {
   "cell_type": "code",
   "execution_count": 3,
   "id": "4371b43e",
   "metadata": {},
   "outputs": [],
   "source": [
    "flag=0\n",
    "ls = ['Aryan','Deepika','Kaustav','Raja','Prabhat','Rishika','Shashank',\"nothing\"]"
   ]
  },
  {
   "cell_type": "code",
   "execution_count": null,
   "id": "ec872363",
   "metadata": {},
   "outputs": [],
   "source": [
    "while(cap.isOpened()):\n",
    "    ret, frame = cap.read()\n",
    "    if ret == False:\n",
    "        break\n",
    "    frame = cv2.flip(frame,1)\n",
    "    test_image1=frame[10:310, 320:620]\n",
    "    cv2.resize(test_image1,(60,60))\n",
    "    #cv2.rectangle(frame, (320, 10), (620, 310), (0, 0, 0), 2)\n",
    "    cv2.imwrite('test0.jpg', test_image1)\n",
    "    cv2.imwrite('test1.jpg', test_image1)\n",
    "    \n",
    "    try:\n",
    "        test_image1 = image.load_img(\"test0.jpg\", target_size= (60,60))\n",
    "    except:\n",
    "        test_image1 = image.load_img(\"test1.jpg\", target_size= (60,60))\n",
    "    test_image1 = image.img_to_array(test_image1)\n",
    "    test_image1 = np.expand_dims(test_image1, axis=0)\n",
    "    result = cnn.predict(test_image1/255.0)\n",
    "    val = result[0].argmax()\n",
    "    cv2.putText(frame, str(ls[val]), (30,50), cv2.FONT_HERSHEY_COMPLEX, 2, (255,0,0))\n",
    "    cv2.imshow('Video', frame)\n",
    "    try: \n",
    "        os.remove(\"test0.jpg\")\n",
    "        os.remove(\"test1.jpg\")\n",
    "    except: \n",
    "        pass\n",
    "    if cv2.waitKey(1) & 0xFF == ord('q'):\n",
    "        break\n",
    "\n",
    "cap.release()\n",
    "cv2.destroyAllWindows()"
   ]
  },
  {
   "cell_type": "code",
   "execution_count": null,
   "id": "830d9e83",
   "metadata": {},
   "outputs": [],
   "source": []
  }
 ],
 "metadata": {
  "kernelspec": {
   "display_name": "Python 3 (ipykernel)",
   "language": "python",
   "name": "python3"
  },
  "language_info": {
   "codemirror_mode": {
    "name": "ipython",
    "version": 3
   },
   "file_extension": ".py",
   "mimetype": "text/x-python",
   "name": "python",
   "nbconvert_exporter": "python",
   "pygments_lexer": "ipython3",
   "version": "3.9.7"
  }
 },
 "nbformat": 4,
 "nbformat_minor": 5
}
