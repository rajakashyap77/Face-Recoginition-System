{
 "cells": [
  {
   "cell_type": "code",
   "execution_count": 1,
   "id": "5c3a7ad0",
   "metadata": {},
   "outputs": [],
   "source": [
    "import tensorflow as tf\n",
    "import numpy as np\n",
    "from keras import layers\n",
    "from keras import models\n",
    "from keras import regularizers\n",
    "from tensorflow.keras.optimizers import RMSprop\n",
    "from keras.preprocessing.image import ImageDataGenerator\n",
    "import matplotlib.pyplot as plt"
   ]
  },
  {
   "cell_type": "code",
   "execution_count": 2,
   "id": "65b504a4",
   "metadata": {},
   "outputs": [],
   "source": [
    "train_dir = 'Dataset/train'\n",
    "test_dir = 'Dataset/test'\n",
    "\n",
    "max_count=100\n",
    "reg_val=[]\n",
    "lr_val=[]\n",
    "test_loss=[]\n",
    "test_acc=[]\n"
   ]
  },
  {
   "cell_type": "code",
   "execution_count": 3,
   "id": "4357dac3",
   "metadata": {},
   "outputs": [],
   "source": [
    "# Sampling learning rate and regularization from a uniform distribution\n",
    "reg=10**(np.random.uniform(-4,0))\n",
    "lr=10**(np.random.uniform(-3,-4))\n"
   ]
  },
  {
   "cell_type": "code",
   "execution_count": 4,
   "id": "fc316809",
   "metadata": {},
   "outputs": [],
   "source": [
    "model=models.Sequential()\n",
    "\n",
    "model.add(layers.Conv2D(32,(3,3),activation='relu',input_shape=(60,60,3)))\n",
    "\n",
    "model.add(layers.MaxPooling2D((2,2)))\n",
    "\n",
    "model.add(layers.Conv2D(64,(3,3),activation='relu'))\n",
    "\n",
    "model.add(layers.MaxPooling2D(2,2))\n",
    "\n",
    "model.add(layers.Conv2D(128,(3,3),activation='relu'))\n",
    "\n",
    "model.add(layers.MaxPooling2D((2,2)))\n",
    "\n",
    "model.add(layers.Conv2D(128,(3,3),activation='relu'))\n",
    "\n",
    "model.add(layers.MaxPooling2D((2,2)))\n",
    "\n",
    "model.add(layers.Flatten())\n",
    "\n",
    "model.add(layers.Dense(512,activation='relu',kernel_regularizer=regularizers.l2(reg)))\n",
    "\n",
    "model.add(layers.Dense(7,activation='sigmoid',kernel_regularizer=regularizers.l2(reg)))"
   ]
  },
  {
   "cell_type": "code",
   "execution_count": 5,
   "id": "efed2c23",
   "metadata": {},
   "outputs": [
    {
     "name": "stdout",
     "output_type": "stream",
     "text": [
      "Model: \"sequential\"\n",
      "_________________________________________________________________\n",
      " Layer (type)                Output Shape              Param #   \n",
      "=================================================================\n",
      " conv2d (Conv2D)             (None, 58, 58, 32)        896       \n",
      "                                                                 \n",
      " max_pooling2d (MaxPooling2D  (None, 29, 29, 32)       0         \n",
      " )                                                               \n",
      "                                                                 \n",
      " conv2d_1 (Conv2D)           (None, 27, 27, 64)        18496     \n",
      "                                                                 \n",
      " max_pooling2d_1 (MaxPooling  (None, 13, 13, 64)       0         \n",
      " 2D)                                                             \n",
      "                                                                 \n",
      " conv2d_2 (Conv2D)           (None, 11, 11, 128)       73856     \n",
      "                                                                 \n",
      " max_pooling2d_2 (MaxPooling  (None, 5, 5, 128)        0         \n",
      " 2D)                                                             \n",
      "                                                                 \n",
      " conv2d_3 (Conv2D)           (None, 3, 3, 128)         147584    \n",
      "                                                                 \n",
      " max_pooling2d_3 (MaxPooling  (None, 1, 1, 128)        0         \n",
      " 2D)                                                             \n",
      "                                                                 \n",
      " flatten (Flatten)           (None, 128)               0         \n",
      "                                                                 \n",
      " dense (Dense)               (None, 512)               66048     \n",
      "                                                                 \n",
      " dense_1 (Dense)             (None, 7)                 3591      \n",
      "                                                                 \n",
      "=================================================================\n",
      "Total params: 310,471\n",
      "Trainable params: 310,471\n",
      "Non-trainable params: 0\n",
      "_________________________________________________________________\n"
     ]
    }
   ],
   "source": [
    "model.summary()"
   ]
  },
  {
   "cell_type": "code",
   "execution_count": 6,
   "id": "73a33af5",
   "metadata": {},
   "outputs": [],
   "source": [
    "model.compile(loss='categorical_crossentropy',optimizer=tf.keras.optimizers.RMSprop(learning_rate=0.001),metrics=['acc'])"
   ]
  },
  {
   "cell_type": "code",
   "execution_count": 7,
   "id": "78a5b8ff",
   "metadata": {},
   "outputs": [
    {
     "name": "stdout",
     "output_type": "stream",
     "text": [
      "Found 4011 images belonging to 7 classes.\n",
      "Found 1007 images belonging to 7 classes.\n"
     ]
    }
   ],
   "source": [
    "#Rescale all the images by 1/255\n",
    "train_datagen=ImageDataGenerator(rescale=1./255)\n",
    "test_datagen=ImageDataGenerator(rescale=1./255)\n",
    "\n",
    "train_generator=train_datagen.flow_from_directory(\n",
    "            train_dir,\n",
    "            target_size=(60,60),\n",
    "            batch_size=20,\n",
    "            class_mode='categorical')\n",
    "test_generator=test_datagen.flow_from_directory(\n",
    "            test_dir,\n",
    "            target_size=(60,60),\n",
    "            batch_size=20,\n",
    "            class_mode='categorical')"
   ]
  },
  {
   "cell_type": "code",
   "execution_count": 8,
   "id": "16d61366",
   "metadata": {},
   "outputs": [
    {
     "name": "stderr",
     "output_type": "stream",
     "text": [
      "C:\\Users\\rajak\\AppData\\Local\\Temp/ipykernel_13468/1138232458.py:2: UserWarning: `Model.fit_generator` is deprecated and will be removed in a future version. Please use `Model.fit`, which supports generators.\n",
      "  history=model.fit_generator(\n"
     ]
    },
    {
     "name": "stdout",
     "output_type": "stream",
     "text": [
      "Epoch 1/5\n",
      "100/100 [==============================] - 102s 1s/step - loss: 0.9600 - acc: 0.6765 - val_loss: 0.0820 - val_acc: 0.9890\n",
      "Epoch 2/5\n",
      "100/100 [==============================] - 67s 667ms/step - loss: 0.1406 - acc: 0.9705 - val_loss: 0.0241 - val_acc: 0.9980\n",
      "Epoch 3/5\n",
      "100/100 [==============================] - 58s 579ms/step - loss: 0.0504 - acc: 0.9910 - val_loss: 0.0134 - val_acc: 0.9990\n",
      "Epoch 4/5\n",
      "100/100 [==============================] - 52s 517ms/step - loss: 0.1478 - acc: 0.9845 - val_loss: 0.0139 - val_acc: 0.9990\n",
      "Epoch 5/5\n",
      "100/100 [==============================] - 49s 491ms/step - loss: 0.0911 - acc: 0.9880 - val_loss: 0.0116 - val_acc: 0.9990\n"
     ]
    }
   ],
   "source": [
    "#Fit the model using batch generator\n",
    "history=model.fit_generator(\n",
    "        train_generator,\n",
    "        steps_per_epoch=100,\n",
    "        epochs=5,\n",
    "        validation_data=test_generator,\n",
    "        validation_steps=50)\n",
    "\n",
    "reg_val.append(reg)\n",
    "lr_val.append(lr)\n",
    "test_loss.append(history.history['val_loss'])\n",
    "test_acc.append(history.history['val_acc'])"
   ]
  },
  {
   "cell_type": "code",
   "execution_count": 12,
   "id": "671024bc",
   "metadata": {},
   "outputs": [],
   "source": [
    "acc=history.history['acc']\n",
    "test_acc=history.history['val_acc']\n",
    "loss=history.history['loss']\n",
    "test_loss=history.history['val_loss']\n",
    "# epochs=range(1,len(acc)+1)\n",
    "# plt.plot(epochs,acc,'bo',label='TRAINING ACCURACY')\n",
    "# plt.plot(epochs,test_acc,'b',label='TEST ACCURACY')\n",
    "# plt.title('TRAINING AND TEST ACCURACY')\n",
    "# plt.xlabel('Epochs')\n",
    "# plt.ylabel('Accuracy')\n",
    "# plt.legend()\n",
    "# plt.figure()\n",
    "# plt.plot(epochs,loss,'bo',label='TRAINING LOSS')\n",
    "# plt.plot(epochs,test_loss,'b',label='TEST LOSS')\n",
    "# plt.title('TRAINING AND TESTING LOSS')\n",
    "# plt.xlabel('Epochs')\n",
    "# plt.ylabel('Loss')\n",
    "# plt.legend()\n",
    "# plt.show()"
   ]
  },
  {
   "cell_type": "code",
   "execution_count": 13,
   "id": "8e70d458",
   "metadata": {},
   "outputs": [
    {
     "name": "stdout",
     "output_type": "stream",
     "text": [
      "******************************\n",
      "Finding the highest Test Accuracy and lowest Test Loss...\n",
      "Maximum Testing Accuracy: 0.9990000128746033\n",
      "Minimum Testing Loss: 0.011573069728910923\n",
      "Value of optimum learning rate : [0.0005211234057531751]\n",
      "Value of optimum regularization: [0.00011425445656551216]\n"
     ]
    }
   ],
   "source": [
    "print (\"*\"*30)\n",
    "print (\"Finding the highest Test Accuracy and lowest Test Loss...\")\n",
    "\n",
    "index1=0\n",
    "index2=0\n",
    "max_test_acc=max(test_acc)\n",
    "min_test_loss=min(test_loss)\n",
    "for i in range(max_count):\n",
    "    temp1=max(test_acc)\n",
    "    if(temp1>=max_test_acc):\n",
    "        max_test_acc=temp1\n",
    "        index1=i\n",
    "    temp2=min(test_loss)\n",
    "    if(temp2<min_test_loss):\n",
    "        min_test_loss=temp2\n",
    "        index2=i  \n",
    "\n",
    "print ('Maximum Testing Accuracy:',max_test_acc)\n",
    "print ('Minimum Testing Loss:',min_test_loss)\n",
    "print ('Value of optimum learning rate :',lr_val)\n",
    "print ('Value of optimum regularization:',reg_val)\n"
   ]
  },
  {
   "cell_type": "code",
   "execution_count": 14,
   "id": "f2b3a487",
   "metadata": {},
   "outputs": [],
   "source": [
    "import tensorflow as tf\n",
    "\n",
    "from keras.models import load_model\n",
    "\n",
    "model.save('facefeatures_model.h5')"
   ]
  },
  {
   "cell_type": "code",
   "execution_count": null,
   "id": "fd1c0090",
   "metadata": {},
   "outputs": [],
   "source": []
  }
 ],
 "metadata": {
  "kernelspec": {
   "display_name": "Python 3 (ipykernel)",
   "language": "python",
   "name": "python3"
  },
  "language_info": {
   "codemirror_mode": {
    "name": "ipython",
    "version": 3
   },
   "file_extension": ".py",
   "mimetype": "text/x-python",
   "name": "python",
   "nbconvert_exporter": "python",
   "pygments_lexer": "ipython3",
   "version": "3.9.7"
  }
 },
 "nbformat": 4,
 "nbformat_minor": 5
}
