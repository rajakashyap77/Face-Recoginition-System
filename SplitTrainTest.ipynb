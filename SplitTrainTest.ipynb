{
 "cells": [
  {
   "cell_type": "code",
   "execution_count": 3,
   "id": "7a855ac1",
   "metadata": {},
   "outputs": [],
   "source": [
    "import splitfolders #or import split_folders\n",
    "\n",
    "input_folder = 'Data/'"
   ]
  },
  {
   "cell_type": "code",
   "execution_count": 4,
   "id": "3f8e7d53",
   "metadata": {},
   "outputs": [
    {
     "name": "stderr",
     "output_type": "stream",
     "text": [
      "Copying files: 5018 files [02:13, 37.50 files/s] \n"
     ]
    }
   ],
   "source": [
    "#split with a ratio\n",
    "#To only split into training and Test set, set a tuple to 'ratio'\n",
    "\n",
    "splitfolders.ratio(input_folder, output='Data2', seed=42, ratio=(.8,.2), group_prefix=None)"
   ]
  },
  {
   "cell_type": "code",
   "execution_count": null,
   "id": "f3423ffc",
   "metadata": {},
   "outputs": [],
   "source": []
  }
 ],
 "metadata": {
  "kernelspec": {
   "display_name": "Python 3 (ipykernel)",
   "language": "python",
   "name": "python3"
  },
  "language_info": {
   "codemirror_mode": {
    "name": "ipython",
    "version": 3
   },
   "file_extension": ".py",
   "mimetype": "text/x-python",
   "name": "python",
   "nbconvert_exporter": "python",
   "pygments_lexer": "ipython3",
   "version": "3.9.7"
  }
 },
 "nbformat": 4,
 "nbformat_minor": 5
}
